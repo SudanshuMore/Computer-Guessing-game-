{
  "nbformat": 4,
  "nbformat_minor": 0,
  "metadata": {
    "colab": {
      "name": "Comp Guessinggame.ipynb",
      "provenance": []
    },
    "kernelspec": {
      "name": "python3",
      "display_name": "Python 3"
    },
    "language_info": {
      "name": "python"
    }
  },
  "cells": [
    {
      "cell_type": "code",
      "source": [
        "from flask import Flask\n",
        "import random\n",
        "\n",
        "def guessing(x):\n",
        "  low=1\n",
        "  high=x\n",
        "  response=''\n",
        "  while response !='c':\n",
        "    if low != high:\n",
        "      guess= random.randint(low,high)\n",
        "    else:\n",
        "      guess = low\n",
        "\n",
        "    response = input(f\"is {guess} is higher(H), is lower(l),type (C)if correct\").lower()\n",
        "\n",
        "    if response == 'h':\n",
        "      high = guess - 1\n",
        "    elif response == 'l':\n",
        "      low = guess + 1\n",
        "  print(f'Yay! The computer guessed your number, {guess}, correctly!')    \n"
      ],
      "metadata": {
        "id": "6b0mQzDggK7J"
      },
      "execution_count": null,
      "outputs": []
    },
    {
      "cell_type": "code",
      "source": [
        "guessing(100)"
      ],
      "metadata": {
        "id": "KpP8nLLHid5K",
        "colab": {
          "base_uri": "https://localhost:8080/"
        },
        "outputId": "0568fa9a-eef9-43f9-d94a-682b44c6cde2"
      },
      "execution_count": null,
      "outputs": [
        {
          "output_type": "stream",
          "name": "stdout",
          "text": [
            "is 41 is higher(H), is lower(l),type (C)if correctl\n",
            "is 62 is higher(H), is lower(l),type (C)if correcth\n",
            "is 48 is higher(H), is lower(l),type (C)if correctl\n",
            "is 50 is higher(H), is lower(l),type (C)if correctc\n",
            "Yay! The computer guessed your number, 50, correctly!\n"
          ]
        }
      ]
    },
    {
      "cell_type": "code",
      "source": [
        " "
      ],
      "metadata": {
        "id": "BP2i7cE6iglv"
      },
      "execution_count": null,
      "outputs": []
    },
    {
      "cell_type": "code",
      "source": [
        ""
      ],
      "metadata": {
        "id": "5mgw4Vj8WPh0"
      },
      "execution_count": null,
      "outputs": []
    }
  ]
}